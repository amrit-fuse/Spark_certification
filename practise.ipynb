{
 "cells": [
  {
   "attachments": {},
   "cell_type": "markdown",
   "metadata": {},
   "source": [
    "# All imports and installs\n"
   ]
  },
  {
   "cell_type": "code",
   "execution_count": 1,
   "metadata": {},
   "outputs": [],
   "source": [
    "!pip freeze > requirements.txt\n",
    "# !pip install -r requirements.txt"
   ]
  },
  {
   "cell_type": "code",
   "execution_count": 2,
   "metadata": {},
   "outputs": [],
   "source": [
    "# import libraries\n",
    "import findspark\n",
    "findspark.init()\n",
    "from pyspark.sql.types import *\n",
    "import pyspark.sql.functions as f\n",
    "from pyspark.sql import SparkSession, Window, Row\n",
    "from pyspark import StorageLevel\n"
   ]
  },
  {
   "attachments": {},
   "cell_type": "markdown",
   "metadata": {},
   "source": [
    "## Spark initialize\n"
   ]
  },
  {
   "cell_type": "code",
   "execution_count": 3,
   "metadata": {},
   "outputs": [
    {
     "name": "stderr",
     "output_type": "stream",
     "text": [
      "your 131072x1 screen size is bogus. expect trouble\n",
      "23/06/19 11:57:17 WARN Utils: Your hostname, AMRIT resolves to a loopback address: 127.0.1.1; using 172.17.145.161 instead (on interface eth0)\n",
      "23/06/19 11:57:17 WARN Utils: Set SPARK_LOCAL_IP if you need to bind to another address\n",
      "Setting default log level to \"WARN\".\n",
      "To adjust logging level use sc.setLogLevel(newLevel). For SparkR, use setLogLevel(newLevel).\n",
      "23/06/19 11:57:19 WARN NativeCodeLoader: Unable to load native-hadoop library for your platform... using builtin-java classes where applicable\n"
     ]
    }
   ],
   "source": [
    "spark = SparkSession.builder.appName(\n",
    "    'Practise_for_certification').getOrCreate()\n",
    "\n",
    "# local[*] # means use all the cores available on the local machine"
   ]
  },
  {
   "cell_type": "code",
   "execution_count": null,
   "metadata": {},
   "outputs": [],
   "source": []
  },
  {
   "attachments": {},
   "cell_type": "markdown",
   "metadata": {},
   "source": [
    "# Topics\n"
   ]
  },
  {
   "attachments": {},
   "cell_type": "markdown",
   "metadata": {},
   "source": [
    "## Dataframe\n"
   ]
  },
  {
   "cell_type": "code",
   "execution_count": 4,
   "metadata": {},
   "outputs": [
    {
     "name": "stderr",
     "output_type": "stream",
     "text": [
      "                                                                                \r"
     ]
    },
    {
     "name": "stdout",
     "output_type": "stream",
     "text": [
      "+--------+-----------+-----------+--------------+-----+\n",
      "|coord_id|lon        |lat        |date          |value|\n",
      "+--------+-----------+-----------+--------------+-----+\n",
      "|26      |85.92405469|27.19137527|6/10/2011 0:00|0.0  |\n",
      "|26      |85.92405469|27.19137527|6/10/2011 0:30|0.0  |\n",
      "+--------+-----------+-----------+--------------+-----+\n",
      "only showing top 2 rows\n",
      "\n"
     ]
    }
   ],
   "source": [
    "#  create df from csv \n",
    "df = spark.read.csv('Final_Rainfall.csv', header=True, inferSchema=True)\n",
    "df.show(n=2, truncate=False)"
   ]
  },
  {
   "cell_type": "code",
   "execution_count": 5,
   "metadata": {},
   "outputs": [
    {
     "data": {
      "text/plain": [
       "636240"
      ]
     },
     "execution_count": 5,
     "metadata": {},
     "output_type": "execute_result"
    }
   ],
   "source": [
    "df.count()"
   ]
  },
  {
   "cell_type": "code",
   "execution_count": 6,
   "metadata": {},
   "outputs": [
    {
     "name": "stderr",
     "output_type": "stream",
     "text": [
      "                                                                                \r"
     ]
    },
    {
     "name": "stdout",
     "output_type": "stream",
     "text": [
      "+-------+---------+\n",
      "|country|capital  |\n",
      "+-------+---------+\n",
      "|USA    |New York |\n",
      "|India  |New Delhi|\n",
      "+-------+---------+\n",
      "only showing top 2 rows\n",
      "\n",
      "root\n",
      " |-- country: string (nullable = true)\n",
      " |-- capital: string (nullable = true)\n",
      "\n"
     ]
    }
   ],
   "source": [
    "country = spark.createDataFrame(\n",
    "    [(\"USA\", \"New York\"),\n",
    "        (\"India\", \"New Delhi\"),\n",
    "        (\"China\", \"Beijing\"),\n",
    "        (\"UK\", \"London\")\n",
    "     ],\n",
    "    [\"country\", \"capital\"]\n",
    ")\n",
    "country.show(n=2, truncate=False)\n",
    "country.printSchema()"
   ]
  },
  {
   "cell_type": "code",
   "execution_count": 7,
   "metadata": {},
   "outputs": [
    {
     "name": "stdout",
     "output_type": "stream",
     "text": [
      "+-------+---------+-----+\n",
      "|country|capital  |count|\n",
      "+-------+---------+-----+\n",
      "|USA    |New York |5    |\n",
      "|India  |New Delhi|10   |\n",
      "+-------+---------+-----+\n",
      "only showing top 2 rows\n",
      "\n",
      "root\n",
      " |-- country: string (nullable = true)\n",
      " |-- capital: string (nullable = true)\n",
      " |-- count: integer (nullable = true)\n",
      "\n"
     ]
    }
   ],
   "source": [
    "# recerate  using data types too\n",
    "data = [(\"USA\", \"New York\", 5),\n",
    "        (\"India\", \"New Delhi\", 10),\n",
    "        (\"China\", \"Beijing\", 15),\n",
    "        (\"UK\", \"London\", 20),\n",
    "        (\"Nepal\", \"Kathmandu\",None ),\n",
    "        (None ,\"islamabad\" ,None ),\n",
    "        (\"Bhutan\", None,30 )\n",
    "        ]\n",
    "schema = StructType([\n",
    "    StructField(\"country\", StringType(), True),\n",
    "    StructField(\"capital\", StringType(), True),\n",
    "    StructField(\"count\", IntegerType(), True)\n",
    "])\n",
    "country_count = spark.createDataFrame(data, schema)\n",
    "country_count.show(n=2, truncate=False)\n",
    "country_count.printSchema()"
   ]
  },
  {
   "attachments": {},
   "cell_type": "markdown",
   "metadata": {},
   "source": [
    "## Renaming columns and its type (cast)"
   ]
  },
  {
   "cell_type": "code",
   "execution_count": 8,
   "metadata": {},
   "outputs": [
    {
     "name": "stdout",
     "output_type": "stream",
     "text": [
      "+-------+---------+----+\n",
      "|country|  capital|Rank|\n",
      "+-------+---------+----+\n",
      "|    USA| New York|   5|\n",
      "|  India|New Delhi|  10|\n",
      "|  China|  Beijing|  15|\n",
      "|     UK|   London|  20|\n",
      "|  Nepal|Kathmandu|null|\n",
      "|   null|islamabad|null|\n",
      "| Bhutan|     null|  30|\n",
      "+-------+---------+----+\n",
      "\n"
     ]
    }
   ],
   "source": [
    "#Rename count to Rank\n",
    "country_rank=country_count.withColumnRenamed(\"count\",\"Rank\")\n",
    "#syntax: withColumnRenamed(existingColName, newColName) \n",
    "country_rank.show()"
   ]
  },
  {
   "attachments": {},
   "cell_type": "markdown",
   "metadata": {},
   "source": [
    " withColumn(\"newColName \",df[\"existingColName\"].cast(StringType()))"
   ]
  },
  {
   "cell_type": "code",
   "execution_count": 9,
   "metadata": {},
   "outputs": [
    {
     "name": "stdout",
     "output_type": "stream",
     "text": [
      "root\n",
      " |-- country: string (nullable = true)\n",
      " |-- capital: string (nullable = true)\n",
      " |-- Rank: string (nullable = true)\n",
      "\n"
     ]
    }
   ],
   "source": [
    "# cast Rank to string\n",
    "country_rank=country_rank.withColumn(\"Rank\",country_rank[\"Rank\"].cast(StringType()))\n",
    "#syntax: withColumn(\"newColName \",df[\"existingColName\"].cast(StringType()))\n",
    "country_rank.printSchema()\n"
   ]
  },
  {
   "attachments": {},
   "cell_type": "markdown",
   "metadata": {},
   "source": [
    "## Selecting columns"
   ]
  },
  {
   "cell_type": "code",
   "execution_count": 10,
   "metadata": {},
   "outputs": [
    {
     "name": "stdout",
     "output_type": "stream",
     "text": [
      "+-------+----+\n",
      "|country|Rank|\n",
      "+-------+----+\n",
      "|    USA|   5|\n",
      "|  India|  10|\n",
      "|  China|  15|\n",
      "|     UK|  20|\n",
      "|  Nepal|null|\n",
      "|   null|null|\n",
      "| Bhutan|  30|\n",
      "+-------+----+\n",
      "\n"
     ]
    }
   ],
   "source": [
    "# country_rank=country_rank.select(\"country\",\"Rank\")\n",
    "country_rank.select(f.col(\"country\"),f.col(\"Rank\")).show()"
   ]
  },
  {
   "cell_type": "code",
   "execution_count": 11,
   "metadata": {},
   "outputs": [
    {
     "name": "stdout",
     "output_type": "stream",
     "text": [
      "root\n",
      " |-- country: string (nullable = true)\n",
      " |-- Rank: string (nullable = true)\n",
      "\n"
     ]
    }
   ],
   "source": [
    "# only cast selected solumns and  create seperate df\n",
    "country_rank=country_count.selectExpr(\"country\",\"cast(count as string) as Rank\")\n",
    "country_rank.printSchema()"
   ]
  },
  {
   "cell_type": "code",
   "execution_count": 12,
   "metadata": {},
   "outputs": [
    {
     "data": {
      "text/plain": [
       "['country', 'capital', 'count']"
      ]
     },
     "execution_count": 12,
     "metadata": {},
     "output_type": "execute_result"
    }
   ],
   "source": [
    "# list columns\n",
    "# country_rank.columns\n",
    "country_count.columns"
   ]
  },
  {
   "cell_type": "code",
   "execution_count": 13,
   "metadata": {},
   "outputs": [
    {
     "name": "stdout",
     "output_type": "stream",
     "text": [
      "+-------+---------+\n",
      "|country|  capital|\n",
      "+-------+---------+\n",
      "|    USA| New York|\n",
      "|  India|New Delhi|\n",
      "|  China|  Beijing|\n",
      "|     UK|   London|\n",
      "|  Nepal|Kathmandu|\n",
      "|   null|islamabad|\n",
      "| Bhutan|     null|\n",
      "+-------+---------+\n",
      "\n",
      "+-------+---------+\n",
      "|country|  capital|\n",
      "+-------+---------+\n",
      "|    USA| New York|\n",
      "|  India|New Delhi|\n",
      "|  China|  Beijing|\n",
      "|     UK|   London|\n",
      "|  Nepal|Kathmandu|\n",
      "|   null|islamabad|\n",
      "| Bhutan|     null|\n",
      "+-------+---------+\n",
      "\n"
     ]
    }
   ],
   "source": [
    " country_count.select(\"country\", \"capital\").show()   \n",
    "country_count.drop(\"count\").show()\n"
   ]
  },
  {
   "attachments": {},
   "cell_type": "markdown",
   "metadata": {},
   "source": [
    "## Filtering"
   ]
  },
  {
   "cell_type": "code",
   "execution_count": 14,
   "metadata": {},
   "outputs": [
    {
     "name": "stdout",
     "output_type": "stream",
     "text": [
      "+-------+-------+-----+\n",
      "|country|capital|count|\n",
      "+-------+-------+-----+\n",
      "|  China|Beijing|   15|\n",
      "|     UK| London|   20|\n",
      "| Bhutan|   null|   30|\n",
      "+-------+-------+-----+\n",
      "\n",
      "+-------+-------+-----+\n",
      "|country|capital|count|\n",
      "+-------+-------+-----+\n",
      "|  China|Beijing|   15|\n",
      "|     UK| London|   20|\n",
      "| Bhutan|   null|   30|\n",
      "+-------+-------+-----+\n",
      "\n"
     ]
    }
   ],
   "source": [
    "country_count.filter(country_count[\"count\"] > 10).show()\n",
    "country_count.where(country_count[\"count\"] > 10).show()"
   ]
  },
  {
   "attachments": {},
   "cell_type": "markdown",
   "metadata": {},
   "source": [
    "## Dropping columns"
   ]
  },
  {
   "cell_type": "code",
   "execution_count": 15,
   "metadata": {},
   "outputs": [
    {
     "name": "stdout",
     "output_type": "stream",
     "text": [
      "+-------+-----+\n",
      "|country|count|\n",
      "+-------+-----+\n",
      "|    USA|    5|\n",
      "|  India|   10|\n",
      "|  China|   15|\n",
      "|     UK|   20|\n",
      "|  Nepal| null|\n",
      "|   null| null|\n",
      "| Bhutan|   30|\n",
      "+-------+-----+\n",
      "\n",
      "+-------+\n",
      "|country|\n",
      "+-------+\n",
      "|    USA|\n",
      "|  India|\n",
      "|  China|\n",
      "|     UK|\n",
      "|  Nepal|\n",
      "|   null|\n",
      "| Bhutan|\n",
      "+-------+\n",
      "\n"
     ]
    }
   ],
   "source": [
    "country_count.drop(\"capital\").show()\n",
    "\n",
    "cols_to_drop = (\"capital\", \"count\")\n",
    "country_count.drop(*cols_to_drop).show()"
   ]
  },
  {
   "cell_type": "code",
   "execution_count": 16,
   "metadata": {},
   "outputs": [
    {
     "name": "stdout",
     "output_type": "stream",
     "text": [
      "+-------+---------+-----+\n",
      "|country|  capital|count|\n",
      "+-------+---------+-----+\n",
      "|    USA| New York|    5|\n",
      "|  India|New Delhi|   10|\n",
      "|  China|  Beijing|   15|\n",
      "|     UK|   London|   20|\n",
      "+-------+---------+-----+\n",
      "\n",
      "+-------+---------+-----+\n",
      "|country|  capital|count|\n",
      "+-------+---------+-----+\n",
      "|    USA| New York|    5|\n",
      "|  India|New Delhi|   10|\n",
      "|  China|  Beijing|   15|\n",
      "|     UK|   London|   20|\n",
      "+-------+---------+-----+\n",
      "\n",
      "+-------+---------+-----+\n",
      "|country|  capital|count|\n",
      "+-------+---------+-----+\n",
      "|    USA| New York|    5|\n",
      "|  India|New Delhi|   10|\n",
      "|  China|  Beijing|   15|\n",
      "|     UK|   London|   20|\n",
      "|  Nepal|Kathmandu| null|\n",
      "|   null|islamabad| null|\n",
      "| Bhutan|     null|   30|\n",
      "+-------+---------+-----+\n",
      "\n",
      "+-------+---------+-----+\n",
      "|country|  capital|count|\n",
      "+-------+---------+-----+\n",
      "|    USA| New York|    5|\n",
      "|  India|New Delhi|   10|\n",
      "|  China|  Beijing|   15|\n",
      "|     UK|   London|   20|\n",
      "|  Nepal|Kathmandu| null|\n",
      "|   null|islamabad| null|\n",
      "+-------+---------+-----+\n",
      "\n"
     ]
    }
   ],
   "source": [
    "# drop null values\n",
    "country_count.dropna().show()  # silimiar to \"any\"\n",
    "#any  \n",
    "country_count.dropna(how=\"any\").show()  # default\n",
    "\n",
    "#all\n",
    "country_count.dropna(how=\"all\").show() # drop if all values are null in a row\n",
    "\n",
    "#  drop null values in specific columns \n",
    "country_count.dropna(subset=[\"capital\"]).show()\n",
    "\n"
   ]
  },
  {
   "attachments": {},
   "cell_type": "markdown",
   "metadata": {},
   "source": [
    "##  Union\n",
    "add new  rows to the dataframe"
   ]
  },
  {
   "cell_type": "code",
   "execution_count": 17,
   "metadata": {},
   "outputs": [
    {
     "name": "stdout",
     "output_type": "stream",
     "text": [
      "+----+------+\n",
      "|TEXT|NUMBER|\n",
      "+----+------+\n",
      "|   A|     1|\n",
      "|   B|     2|\n",
      "|   C|     3|\n",
      "|   D|     4|\n",
      "|   C|     3|\n",
      "|   D|     4|\n",
      "|   E|     5|\n",
      "|   F|     6|\n",
      "+----+------+\n",
      "\n",
      "+----+------+\n",
      "|TEXT|NUMBER|\n",
      "+----+------+\n",
      "|   A|     1|\n",
      "|   B|     2|\n",
      "|   C|     3|\n",
      "|   D|     4|\n",
      "|   C|     3|\n",
      "|   D|     4|\n",
      "|   E|     5|\n",
      "|   F|     6|\n",
      "+----+------+\n",
      "\n",
      "+----+------+\n",
      "|TEXT|NUMBER|\n",
      "+----+------+\n",
      "|   A|     1|\n",
      "|   B|     2|\n",
      "|   C|     3|\n",
      "|   D|     4|\n",
      "|   E|     5|\n",
      "|   F|     6|\n",
      "+----+------+\n",
      "\n"
     ]
    }
   ],
   "source": [
    "df1=spark.createDataFrame([(\"A\",1),(\"B\",2),(\"C\",3),(\"D\",4)],[\"TEXT\",\"NUMBER\"])\n",
    "\n",
    "df2=spark.createDataFrame([(\"C\",3),(\"D\",4),(\"E\",5),(\"F\",6)],[\"TEXT\",\"NUMBER\"])\n",
    "df1.union(df2).show() # also show duplicates\n",
    "df1.unionAll(df2).show() # also show duplicates\n",
    "\n",
    "df1.union(df2).distinct().show() # remove duplicates"
   ]
  },
  {
   "attachments": {},
   "cell_type": "markdown",
   "metadata": {},
   "source": [
    "## Sorting"
   ]
  },
  {
   "cell_type": "code",
   "execution_count": 18,
   "metadata": {},
   "outputs": [
    {
     "name": "stdout",
     "output_type": "stream",
     "text": [
      "+------------+-------+-----+\n",
      "|student_name|subject|marks|\n",
      "+------------+-------+-----+\n",
      "|       Alice|Science|   80|\n",
      "|       Alice|   Math|   90|\n",
      "|       Alice|English|   85|\n",
      "|        Mark|   Math|   85|\n",
      "|        Mark|English|   80|\n",
      "|       Penny|Science|   85|\n",
      "|       Penny|   Math|   90|\n",
      "|       Penny|English|   75|\n",
      "|        Gwen|Science|   75|\n",
      "|        Gwen|   Math|   95|\n",
      "|        Gwen|English|   80|\n",
      "+------------+-------+-----+\n",
      "\n"
     ]
    }
   ],
   "source": [
    "data = [(\"Alice\", \"Science\", 80),(\"Alice\", \"Math\", 90), (\"Alice\", \"English\", 85), (\"Mark\", \"Math\", 85),(\"Mark\", \"English\", 80),(\"Penny\", \"Science\", 85),(\"Penny\", \"Math\", 90),(\"Penny\", \"English\", 75),(\"Gwen\", \"Science\", 75),(\"Gwen\", \"Math\", 95),(\"Gwen\", \"English\", 80)]\n",
    "schema = [\"student_name\", \"subject\", \"marks\"]\n",
    "marks_df = spark.createDataFrame(data, schema)\n",
    "marks_df.show()"
   ]
  },
  {
   "cell_type": "code",
   "execution_count": 19,
   "metadata": {},
   "outputs": [
    {
     "name": "stdout",
     "output_type": "stream",
     "text": [
      "+------------+-------+-----+\n",
      "|student_name|subject|marks|\n",
      "+------------+-------+-----+\n",
      "|       Alice|   Math|   90|\n",
      "|       Alice|Science|   80|\n",
      "|       Alice|English|   85|\n",
      "|        Gwen|   Math|   95|\n",
      "+------------+-------+-----+\n",
      "only showing top 4 rows\n",
      "\n",
      "+------------+-------+-----+\n",
      "|student_name|subject|marks|\n",
      "+------------+-------+-----+\n",
      "|       Penny|English|   75|\n",
      "|       Penny|Science|   85|\n",
      "|       Penny|   Math|   90|\n",
      "|        Mark|   Math|   85|\n",
      "+------------+-------+-----+\n",
      "only showing top 4 rows\n",
      "\n",
      "+------------+-------+-----+\n",
      "|student_name|subject|marks|\n",
      "+------------+-------+-----+\n",
      "|       Penny|English|   75|\n",
      "|       Penny|Science|   85|\n",
      "|       Penny|   Math|   90|\n",
      "|        Mark|   Math|   85|\n",
      "+------------+-------+-----+\n",
      "only showing top 4 rows\n",
      "\n",
      "+------------+-------+-----+\n",
      "|student_name|subject|marks|\n",
      "+------------+-------+-----+\n",
      "|       Alice|Science|   80|\n",
      "|       Alice|English|   85|\n",
      "|       Alice|   Math|   90|\n",
      "|        Gwen|Science|   75|\n",
      "+------------+-------+-----+\n",
      "only showing top 4 rows\n",
      "\n"
     ]
    }
   ],
   "source": [
    "marks_df.sort(\"student_name\").show(4)\n",
    "marks_df.sort(\"student_name\", ascending=False).show(4)   # ascending=False means descending order\n",
    "marks_df.sort(f.col(\"student_name\").desc()).show(4)  # .desc() is same as ascending=False\n",
    "marks_df.sort(\"student_name\",\"marks\").show(4)"
   ]
  },
  {
   "attachments": {},
   "cell_type": "markdown",
   "metadata": {},
   "source": [
    "## Convert df to TempView\n",
    "to run sql queries on df"
   ]
  },
  {
   "cell_type": "code",
   "execution_count": 20,
   "metadata": {},
   "outputs": [],
   "source": [
    "marks_df.createTempView(\"marks_table\") "
   ]
  },
  {
   "cell_type": "code",
   "execution_count": 21,
   "metadata": {},
   "outputs": [
    {
     "name": "stdout",
     "output_type": "stream",
     "text": [
      "+------------+-------+-----+\n",
      "|student_name|subject|marks|\n",
      "+------------+-------+-----+\n",
      "|        Gwen|   Math|   95|\n",
      "|       Penny|   Math|   90|\n",
      "|       Alice|   Math|   90|\n",
      "|        Mark|   Math|   85|\n",
      "+------------+-------+-----+\n",
      "only showing top 4 rows\n",
      "\n"
     ]
    }
   ],
   "source": [
    "spark.sql(\"select * from marks_table order by marks DESC\").show(4)"
   ]
  },
  {
   "attachments": {},
   "cell_type": "markdown",
   "metadata": {},
   "source": [
    "## Basic Aggregration"
   ]
  },
  {
   "cell_type": "code",
   "execution_count": 22,
   "metadata": {},
   "outputs": [
    {
     "name": "stdout",
     "output_type": "stream",
     "text": [
      "+------------+----------+\n",
      "|student_name|min(marks)|\n",
      "+------------+----------+\n",
      "|       Alice|        80|\n",
      "|        Mark|        80|\n",
      "|       Penny|        75|\n",
      "|        Gwen|        75|\n",
      "+------------+----------+\n",
      "\n",
      "+------------+----------+\n",
      "|student_name|sum(marks)|\n",
      "+------------+----------+\n",
      "|       Alice|       255|\n",
      "|        Mark|       165|\n",
      "|       Penny|       250|\n",
      "|        Gwen|       250|\n",
      "+------------+----------+\n",
      "\n",
      "+------------+-----------------+\n",
      "|student_name|       avg(marks)|\n",
      "+------------+-----------------+\n",
      "|       Alice|             85.0|\n",
      "|        Mark|             82.5|\n",
      "|       Penny|83.33333333333333|\n",
      "|        Gwen|83.33333333333333|\n",
      "+------------+-----------------+\n",
      "\n"
     ]
    }
   ],
   "source": [
    "marks_df.groupBy(\"student_name\").agg(f.min(\"marks\")).show() # min marks of each student\n",
    "marks_df.groupBy(\"student_name\").agg(f.sum(\"marks\")).show() # sum of marks of each student\n",
    "marks_df.groupBy(\"student_name\").agg(f.avg(\"marks\")).show() # avg of marks of each student\n",
    "\n",
    "# similary other aggregration functions can be used like count , max , min , sum , avg , mean , stddev , variance "
   ]
  },
  {
   "attachments": {},
   "cell_type": "markdown",
   "metadata": {},
   "source": [
    "## Joins\n",
    "\n",
    "use keys to joins df"
   ]
  },
  {
   "cell_type": "code",
   "execution_count": 23,
   "metadata": {},
   "outputs": [
    {
     "name": "stdout",
     "output_type": "stream",
     "text": [
      "+------------+-------+-----+\n",
      "|student_name|subject|marks|\n",
      "+------------+-------+-----+\n",
      "|       Alice|Science|   80|\n",
      "|       Penny|Science|   85|\n",
      "|        Gwen|Science|   75|\n",
      "+------------+-------+-----+\n",
      "\n",
      "+------------+-------+-----+\n",
      "|student_name|subject|marks|\n",
      "+------------+-------+-----+\n",
      "|       Alice|   Math|   90|\n",
      "|        Mark|   Math|   85|\n",
      "|       Penny|   Math|   90|\n",
      "|        Gwen|   Math|   95|\n",
      "+------------+-------+-----+\n",
      "\n"
     ]
    }
   ],
   "source": [
    "science_df=marks_df.filter(marks_df[\"subject\"]==\"Science\")\n",
    "math_df=marks_df.filter(marks_df[\"subject\"]==\"Math\")\n",
    "\n",
    "science_df.show()\n",
    "math_df.show()"
   ]
  },
  {
   "cell_type": "code",
   "execution_count": 24,
   "metadata": {},
   "outputs": [
    {
     "name": "stdout",
     "output_type": "stream",
     "text": [
      "+------------+-------+-----+------------+-------+-----+\n",
      "|student_name|subject|marks|student_name|subject|marks|\n",
      "+------------+-------+-----+------------+-------+-----+\n",
      "|       Alice|Science|   80|       Alice|   Math|   90|\n",
      "|        Gwen|Science|   75|        Gwen|   Math|   95|\n",
      "|       Penny|Science|   85|       Penny|   Math|   90|\n",
      "+------------+-------+-----+------------+-------+-----+\n",
      "\n",
      "+------------+-------+-----+-------+-----+\n",
      "|student_name|subject|marks|subject|marks|\n",
      "+------------+-------+-----+-------+-----+\n",
      "|       Alice|Science|   80|   Math|   90|\n",
      "|       Penny|Science|   85|   Math|   90|\n",
      "|        Gwen|Science|   75|   Math|   95|\n",
      "+------------+-------+-----+-------+-----+\n",
      "\n",
      "+------------+-------+-----+------------+-------+-----+\n",
      "|student_name|subject|marks|student_name|subject|marks|\n",
      "+------------+-------+-----+------------+-------+-----+\n",
      "|       Alice|Science|   80|       Alice|   Math|   90|\n",
      "|        null|   null| null|        Mark|   Math|   85|\n",
      "|       Penny|Science|   85|       Penny|   Math|   90|\n",
      "|        Gwen|Science|   75|        Gwen|   Math|   95|\n",
      "+------------+-------+-----+------------+-------+-----+\n",
      "\n",
      "+------------+-------+-----+------------+-------+-----+\n",
      "|student_name|subject|marks|student_name|subject|marks|\n",
      "+------------+-------+-----+------------+-------+-----+\n",
      "|       Alice|Science|   80|       Alice|   Math|   90|\n",
      "|        Gwen|Science|   75|        Gwen|   Math|   95|\n",
      "|        null|   null| null|        Mark|   Math|   85|\n",
      "|       Penny|Science|   85|       Penny|   Math|   90|\n",
      "+------------+-------+-----+------------+-------+-----+\n",
      "\n",
      "+------------+-------+-----+\n",
      "|student_name|subject|marks|\n",
      "+------------+-------+-----+\n",
      "|       Alice|Science|   80|\n",
      "|        Gwen|Science|   75|\n",
      "|       Penny|Science|   85|\n",
      "+------------+-------+-----+\n",
      "\n",
      "+------------+-------+-----+\n",
      "|student_name|subject|marks|\n",
      "+------------+-------+-----+\n",
      "+------------+-------+-----+\n",
      "\n"
     ]
    }
   ],
   "source": [
    "#syntax: df1.join(df2,df1[\"col1\"]==df2[\"col2\"],<join_type>)\n",
    "science_df.join(math_df,science_df[\"student_name\"]==math_df[\"student_name\"],\"inner\").show() # inner join\n",
    "science_df.join(math_df,[\"student_name\"],\"left\").show() # left join   # can use single key column name if both df has same column name , so no duplicate column name\n",
    "science_df.join(math_df,science_df[\"student_name\"]==math_df[\"student_name\"],\"right\").show() # right join\n",
    "science_df.join(math_df,science_df[\"student_name\"]==math_df[\"student_name\"],\"full\").show() # full join or outer join so list all rows from both df\n",
    "\n",
    "#left_semi join\n",
    "science_df.join(math_df,science_df[\"student_name\"]==math_df[\"student_name\"],\"left_semi\").show() # left_semi join\n",
    "\n",
    "#left_anti join\n",
    "science_df.join(math_df,science_df[\"student_name\"]==math_df[\"student_name\"],\"left_anti\").show() # left_anti join # list all rows from left df which are not in right df"
   ]
  },
  {
   "attachments": {},
   "cell_type": "markdown",
   "metadata": {},
   "source": [
    "## Partition (Colesce and repartition)"
   ]
  },
  {
   "cell_type": "code",
   "execution_count": 25,
   "metadata": {},
   "outputs": [
    {
     "name": "stdout",
     "output_type": "stream",
     "text": [
      "+--------+-----------+-----------+--------------+-----+\n",
      "|coord_id|        lon|        lat|          date|value|\n",
      "+--------+-----------+-----------+--------------+-----+\n",
      "|      26|85.92405469|27.19137527|6/10/2011 0:00|  0.0|\n",
      "|      26|85.92405469|27.19137527|6/10/2011 0:30|  0.0|\n",
      "+--------+-----------+-----------+--------------+-----+\n",
      "only showing top 2 rows\n",
      "\n"
     ]
    },
    {
     "data": {
      "text/plain": [
       "636240"
      ]
     },
     "execution_count": 25,
     "metadata": {},
     "output_type": "execute_result"
    }
   ],
   "source": [
    "# Read Final_Rainfall.csv file\n",
    "df_RailFall = spark.read.csv('Final_Rainfall.csv', header=True, inferSchema=True)\n",
    "df_RailFall.show(2)\n",
    "df.count()"
   ]
  },
  {
   "cell_type": "code",
   "execution_count": 26,
   "metadata": {},
   "outputs": [
    {
     "data": {
      "text/plain": [
       "6"
      ]
     },
     "execution_count": 26,
     "metadata": {},
     "output_type": "execute_result"
    }
   ],
   "source": [
    "# get num,ber of partitions\n",
    "df_RailFall.rdd.getNumPartitions()"
   ]
  },
  {
   "cell_type": "code",
   "execution_count": 27,
   "metadata": {},
   "outputs": [
    {
     "data": {
      "text/plain": [
       "3"
      ]
     },
     "execution_count": 27,
     "metadata": {},
     "output_type": "execute_result"
    }
   ],
   "source": [
    "# Colesce dont shuffle data so falls under narrow transformation  \n",
    "# and  generally used to reduce number of partitions\n",
    "# even if i supply more number of partitions than actual number of partitions , it will not create new partitions but will use existing partitions\n",
    "# if supplied less number of partitions then now of partitions will be reduced to that number\n",
    "df_RailFall.coalesce(3).rdd.getNumPartitions()\n"
   ]
  },
  {
   "cell_type": "code",
   "execution_count": 28,
   "metadata": {},
   "outputs": [
    {
     "name": "stderr",
     "output_type": "stream",
     "text": [
      "[Stage 117:=========>                                               (1 + 5) / 6]\r"
     ]
    },
    {
     "data": {
      "text/plain": [
       "30"
      ]
     },
     "execution_count": 28,
     "metadata": {},
     "output_type": "execute_result"
    }
   ],
   "source": [
    "#repartition shuffle data so falls under wide transformation\n",
    "# and generally used to increase number of partitions but can also be used to reduce number of partitions\n",
    "df_RailFall.repartition(30).rdd.getNumPartitions()"
   ]
  },
  {
   "attachments": {},
   "cell_type": "markdown",
   "metadata": {},
   "source": [
    "## Shared variables (Broadcast and Accumulators)"
   ]
  },
  {
   "cell_type": "code",
   "execution_count": 29,
   "metadata": {},
   "outputs": [
    {
     "name": "stdout",
     "output_type": "stream",
     "text": [
      "15\n"
     ]
    },
    {
     "name": "stderr",
     "output_type": "stream",
     "text": [
      "                                                                                \r"
     ]
    }
   ],
   "source": [
    "#accumulator variable is used to update values across all nodes. \n",
    "# used to aggregate data across all nodes for associative and commutative operations like sum , count , max , min etc\n",
    "\n",
    "var_accum = spark.sparkContext.accumulator(0) # create accumulator with initial value 0\n",
    "rdd=spark.sparkContext.parallelize([1,2,3,4,5]) # create rdd from list\n",
    "rdd.foreach(lambda x: var_accum.add(x)) # add all elements of rdd to accumulator\n",
    "print(var_accum.value) # print accumulator value"
   ]
  },
  {
   "cell_type": "code",
   "execution_count": 30,
   "metadata": {},
   "outputs": [
    {
     "name": "stdout",
     "output_type": "stream",
     "text": [
      "+-------+-------+\n",
      "|country|capital|\n",
      "+-------+-------+\n",
      "|    USA|     NY|\n",
      "|  India|     ND|\n",
      "|  China|     BJ|\n",
      "|     UK|     LD|\n",
      "+-------+-------+\n",
      "\n"
     ]
    }
   ],
   "source": [
    "# country and thier cpital shortform\n",
    "country_capital= spark.createDataFrame( \n",
    "    [(\"USA\", \"NY\"), \n",
    "    (\"India\", \"ND\"),\n",
    "    (\"China\", \"BJ\"),\n",
    "    (\"UK\", \"LD\")\n",
    "    ],\n",
    "    [\"country\", \"capital\"]\n",
    ")\n",
    "country_capital.show()\n"
   ]
  },
  {
   "cell_type": "code",
   "execution_count": 31,
   "metadata": {},
   "outputs": [
    {
     "name": "stdout",
     "output_type": "stream",
     "text": [
      "{'NY': 'New York', 'ND': 'New Delhi', 'BJ': 'Beijing', 'LD': 'London'}\n",
      "+-------+-------+---------+\n",
      "|country|capital|full_form|\n",
      "+-------+-------+---------+\n",
      "|    USA|     NY| New York|\n",
      "|  India|     ND|New Delhi|\n",
      "|  China|     BJ|  Beijing|\n",
      "|     UK|     LD|   London|\n",
      "+-------+-------+---------+\n",
      "\n"
     ]
    }
   ],
   "source": [
    "# broadcast variable is used to cache data in memory across all nodes\n",
    "# broadcast variable is read only and can be used to cache data which is used multiple times in a job\n",
    "\n",
    "\n",
    "# create broadcast variable containg  capital short form and full form\n",
    "broadcast_var = spark.sparkContext.broadcast({\"NY\": \"New York\", \"ND\": \"New Delhi\", \"BJ\": \"Beijing\", \"LD\": \"London\"})\n",
    "print(broadcast_var.value)\n",
    "\n",
    "combined=country_capital.rdd.map(lambda x: (x[0],x[1],broadcast_var.value[x[1]])).toDF([\"country\",\"capital\",\"full_form\"]) #  convert rdd to df\n",
    "\n",
    "combined.show()"
   ]
  },
  {
   "attachments": {},
   "cell_type": "markdown",
   "metadata": {},
   "source": [
    "## Optimization techniques (persist and cache)"
   ]
  },
  {
   "cell_type": "code",
   "execution_count": 32,
   "metadata": {},
   "outputs": [
    {
     "name": "stdout",
     "output_type": "stream",
     "text": [
      "+--------+-----------+-----------+--------------+-----+\n",
      "|coord_id|lon        |lat        |date          |value|\n",
      "+--------+-----------+-----------+--------------+-----+\n",
      "|26      |85.92405469|27.19137527|6/10/2011 0:00|0.0  |\n",
      "|26      |85.92405469|27.19137527|6/10/2011 0:30|0.0  |\n",
      "+--------+-----------+-----------+--------------+-----+\n",
      "only showing top 2 rows\n",
      "\n"
     ]
    }
   ],
   "source": [
    "#  create df from csv \n",
    "df = spark.read.csv('Final_Rainfall.csv', header=True, inferSchema=True)\n",
    "df.show(n=2, truncate=False)\n",
    "\n",
    " # create copy of df \n",
    "df_copy=df.select(\"*\") # select all columns"
   ]
  },
  {
   "cell_type": "code",
   "execution_count": 33,
   "metadata": {},
   "outputs": [
    {
     "name": "stdout",
     "output_type": "stream",
     "text": [
      "Serialized 1x Replicated\n",
      "Disk Serialized 1x Replicated\n"
     ]
    }
   ],
   "source": [
    "# persist is used to cache data in memory across all nodes  and disk\n",
    "from pyspark import StorageLevel\n",
    "\n",
    "print (df.storageLevel)  # Serialized 1x Replicated  i.e data is stored in serialized format ( byte array ) and replicated once\n",
    "# serialized format is used to reduce memory usage, efficinet to store but mostly intensive to read\n",
    "\n",
    "df.persist(StorageLevel.DISK_ONLY) # cache data in disk only\n",
    "# other options are MEMORY_ONLY , MEMORY_AND_DISK , MEMORY_ONLY_SER , MEMORY_AND_DISK_SER , DISK_ONLY , MEMORY_ONLY_2 , MEMORY_AND_DISK_2 , OFF_HEAP\n",
    "# MEMORY_ONLY_2 means data is cached in memory across all nodes and replicated twice\n",
    "#  MEMORY_ONLY_SER means data is cached in serialized format in memory across all nodes and replicated once \n",
    "# off heap means data is cached in off heap memory \n",
    "\n",
    "print (df.storageLevel) # Disk Serialized 1x Replicated  i.e data is stored in serialized format ( byte array ) and replicated once"
   ]
  },
  {
   "cell_type": "code",
   "execution_count": 34,
   "metadata": {},
   "outputs": [
    {
     "name": "stdout",
     "output_type": "stream",
     "text": [
      "Disk Memory Deserialized 1x Replicated\n"
     ]
    }
   ],
   "source": [
    "#cache  is a persist with memory and disk storage level with deserialized format and replicated once\n",
    "#deserialized format is used when data is read multiple times \n",
    "\n",
    "# try to fit data in memory and spill to disk if not fit in memory\n",
    "\n",
    "df_copy_cached=df_copy.cache() # cache data in memory only\n",
    "print (df_copy_cached.storageLevel)"
   ]
  },
  {
   "cell_type": "code",
   "execution_count": 35,
   "metadata": {},
   "outputs": [
    {
     "data": {
      "text/plain": [
       "DataFrame[coord_id: int, lon: double, lat: double, date: string, value: double]"
      ]
     },
     "execution_count": 35,
     "metadata": {},
     "output_type": "execute_result"
    }
   ],
   "source": [
    "#unpresist is used to remove data from cache  and free up memory\n",
    "df_copy_cached.unpersist()"
   ]
  },
  {
   "attachments": {},
   "cell_type": "markdown",
   "metadata": {},
   "source": [
    "## Date Time "
   ]
  },
  {
   "cell_type": "code",
   "execution_count": 65,
   "metadata": {},
   "outputs": [
    {
     "name": "stdout",
     "output_type": "stream",
     "text": [
      "+-------------------+----+\n",
      "|          timestamp|city|\n",
      "+-------------------+----+\n",
      "|2018-01-01 00:00:00|  NY|\n",
      "|2018-01-01 05:02:23|  ND|\n",
      "|2018-01-02 10:05:46|  BJ|\n",
      "|2018-02-02 15:08:09|  LD|\n",
      "|2019-04-03 20:10:32|  NY|\n",
      "+-------------------+----+\n",
      "\n"
     ]
    }
   ],
   "source": [
    "# create df  with timestamp column   and  crimes data\n",
    "\n",
    "df_crimes = spark.createDataFrame( \n",
    "    [(\"2018-01-01 00:00:00\", \"NY\"),\n",
    "    (\"2018-01-01 05:02:23\", \"ND\"),\n",
    "    (\"2018-01-02 10:05:46\", \"BJ\"),\n",
    "    (\"2018-02-02 15:08:09\", \"LD\"),\n",
    "    (\"2019-04-03 20:10:32\", \"NY\"),\n",
    "    ],\n",
    "    [\"timestamp\", \"city\"]\n",
    ")\n",
    "df_crimes.show()"
   ]
  },
  {
   "cell_type": "code",
   "execution_count": 76,
   "metadata": {},
   "outputs": [
    {
     "name": "stdout",
     "output_type": "stream",
     "text": [
      "root\n",
      " |-- timestamp: timestamp (nullable = true)\n",
      " |-- city: string (nullable = true)\n",
      "\n"
     ]
    }
   ],
   "source": [
    "# convert timestamp column to date column\n",
    "df_crimes_datetime=df_crimes.withColumn(\"timestamp\",f.to_timestamp(df_crimes[\"timestamp\"],\"yyyy-MM-dd HH:mm:ss\"))\n",
    "df_crimes_datetime.printSchema()"
   ]
  },
  {
   "cell_type": "code",
   "execution_count": 75,
   "metadata": {},
   "outputs": [
    {
     "name": "stdout",
     "output_type": "stream",
     "text": [
      "+-------------------+---+-----+----+----+------+------+----------+---------+---------+-----------+-----------+-------------------+\n",
      "|          timestamp|day|month|year|hour|minute|second|weekofyear|dayofweek|dayofyear|date_format|time_format|    datetime_format|\n",
      "+-------------------+---+-----+----+----+------+------+----------+---------+---------+-----------+-----------+-------------------+\n",
      "|2018-01-01 00:00:00|  1|    1|2018|   0|     0|     0|         1|        2|        1| 2018-01-01|   00:00:00|01/00/2018 00:00:00|\n",
      "|2018-01-01 05:02:23|  1|    1|2018|   5|     2|    23|         1|        2|        1| 2018-01-01|   05:02:23|01/02/2018 05:02:23|\n",
      "|2018-01-02 10:05:46|  2|    1|2018|  10|     5|    46|         1|        3|        2| 2018-01-02|   10:05:46|02/05/2018 10:05:46|\n",
      "|2018-02-02 15:08:09|  2|    2|2018|  15|     8|     9|         5|        6|       33| 2018-02-02|   15:08:09|02/08/2018 15:08:09|\n",
      "|2019-04-03 20:10:32|  3|    4|2019|  20|    10|    32|        14|        4|       93| 2019-04-03|   20:10:32|03/10/2019 20:10:32|\n",
      "+-------------------+---+-----+----+----+------+------+----------+---------+---------+-----------+-----------+-------------------+\n",
      "\n"
     ]
    }
   ],
   "source": [
    "df_crimes_datetime.select(\"timestamp\",\n",
    "f.dayofmonth(\"timestamp\").alias(\"day\"),\n",
    "f.month(\"timestamp\").alias(\"month\"),\n",
    "f.year(\"timestamp\").alias(\"year\"),\n",
    "f.hour(\"timestamp\").alias(\"hour\"),\n",
    "f.minute(\"timestamp\").alias(\"minute\"),\n",
    "f.second(\"timestamp\").alias(\"second\"),\n",
    "f.weekofyear(\"timestamp\").alias(\"weekofyear\"),\n",
    "f.dayofweek(\"timestamp\").alias(\"dayofweek\"),\n",
    "f.dayofyear(\"timestamp\").alias(\"dayofyear\"),\n",
    "f.date_format(\"timestamp\",\"yyyy-MM-dd\").alias(\"date_format\"),\n",
    "f.date_format(\"timestamp\",\"HH:mm:ss\").alias(\"time_format\"), \n",
    "f.date_format(\"timestamp\",\"dd/mm/yyyy HH:mm:ss\").alias(\"datetime_format\")\n",
    ").show()"
   ]
  },
  {
   "attachments": {},
   "cell_type": "markdown",
   "metadata": {},
   "source": [
    "## Reading wriring other file formats"
   ]
  },
  {
   "cell_type": "code",
   "execution_count": 83,
   "metadata": {},
   "outputs": [
    {
     "name": "stderr",
     "output_type": "stream",
     "text": [
      "                                                                                \r"
     ]
    }
   ],
   "source": [
    "#store in parquet format\n",
    "df_crimes_datetime.write.parquet(\"df_crimes_datetime.parquet\")  # write  in 6 diffferent files"
   ]
  },
  {
   "cell_type": "code",
   "execution_count": null,
   "metadata": {},
   "outputs": [],
   "source": []
  }
 ],
 "metadata": {
  "kernelspec": {
   "display_name": "spark_env",
   "language": "python",
   "name": "python3"
  },
  "language_info": {
   "codemirror_mode": {
    "name": "ipython",
    "version": 3
   },
   "file_extension": ".py",
   "mimetype": "text/x-python",
   "name": "python",
   "nbconvert_exporter": "python",
   "pygments_lexer": "ipython3",
   "version": "3.11.2"
  },
  "orig_nbformat": 4
 },
 "nbformat": 4,
 "nbformat_minor": 2
}
