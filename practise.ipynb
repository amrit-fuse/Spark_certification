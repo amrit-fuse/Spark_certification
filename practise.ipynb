{
 "cells": [
  {
   "attachments": {},
   "cell_type": "markdown",
   "metadata": {},
   "source": [
    "# All imports and installs\n"
   ]
  },
  {
   "cell_type": "code",
   "execution_count": 1,
   "metadata": {},
   "outputs": [],
   "source": [
    "!pip freeze > requirements.txt\n",
    "# !pip install -r requirements.txt"
   ]
  },
  {
   "cell_type": "code",
   "execution_count": 2,
   "metadata": {},
   "outputs": [],
   "source": [
    "# import libraries\n",
    "import findspark\n",
    "findspark.init()\n",
    "from pyspark.sql.types import *\n",
    "import pyspark.sql.functions as f\n",
    "from pyspark.sql import SparkSession, Window, Row\n"
   ]
  },
  {
   "attachments": {},
   "cell_type": "markdown",
   "metadata": {},
   "source": [
    "## Spark initialize\n"
   ]
  },
  {
   "cell_type": "code",
   "execution_count": 3,
   "metadata": {},
   "outputs": [
    {
     "name": "stderr",
     "output_type": "stream",
     "text": [
      "your 131072x1 screen size is bogus. expect trouble\n",
      "23/06/11 18:35:40 WARN Utils: Your hostname, AMRIT resolves to a loopback address: 127.0.1.1; using 172.17.145.161 instead (on interface eth0)\n",
      "23/06/11 18:35:40 WARN Utils: Set SPARK_LOCAL_IP if you need to bind to another address\n",
      "Setting default log level to \"WARN\".\n",
      "To adjust logging level use sc.setLogLevel(newLevel). For SparkR, use setLogLevel(newLevel).\n",
      "23/06/11 18:35:43 WARN NativeCodeLoader: Unable to load native-hadoop library for your platform... using builtin-java classes where applicable\n"
     ]
    }
   ],
   "source": [
    "spark = SparkSession.builder.appName(\n",
    "    'Practise_for_certification').getOrCreate()\n",
    "\n",
    "# local[*] # means use all the cores available on the local machine"
   ]
  },
  {
   "cell_type": "code",
   "execution_count": null,
   "metadata": {},
   "outputs": [],
   "source": []
  },
  {
   "attachments": {},
   "cell_type": "markdown",
   "metadata": {},
   "source": [
    "# Topics\n"
   ]
  },
  {
   "attachments": {},
   "cell_type": "markdown",
   "metadata": {},
   "source": [
    "## Dataframe\n"
   ]
  },
  {
   "cell_type": "code",
   "execution_count": 4,
   "metadata": {},
   "outputs": [
    {
     "name": "stderr",
     "output_type": "stream",
     "text": [
      "                                                                                \r"
     ]
    },
    {
     "name": "stdout",
     "output_type": "stream",
     "text": [
      "+--------+-----------+-----------+--------------+-----+\n",
      "|coord_id|lon        |lat        |date          |value|\n",
      "+--------+-----------+-----------+--------------+-----+\n",
      "|26      |85.92405469|27.19137527|6/10/2011 0:00|0.0  |\n",
      "|26      |85.92405469|27.19137527|6/10/2011 0:30|0.0  |\n",
      "+--------+-----------+-----------+--------------+-----+\n",
      "only showing top 2 rows\n",
      "\n"
     ]
    }
   ],
   "source": [
    "#  create df from csv \n",
    "df = spark.read.csv('Final_Rainfall.csv', header=True, inferSchema=True)\n",
    "df.show(n=2, truncate=False)"
   ]
  },
  {
   "cell_type": "code",
   "execution_count": 5,
   "metadata": {},
   "outputs": [
    {
     "data": {
      "text/plain": [
       "636240"
      ]
     },
     "execution_count": 5,
     "metadata": {},
     "output_type": "execute_result"
    }
   ],
   "source": [
    "df.count()"
   ]
  },
  {
   "cell_type": "code",
   "execution_count": 6,
   "metadata": {},
   "outputs": [
    {
     "name": "stdout",
     "output_type": "stream",
     "text": [
      "+-------+---------+\n",
      "|country|capital  |\n",
      "+-------+---------+\n",
      "|USA    |New York |\n",
      "|India  |New Delhi|\n",
      "+-------+---------+\n",
      "only showing top 2 rows\n",
      "\n",
      "root\n",
      " |-- country: string (nullable = true)\n",
      " |-- capital: string (nullable = true)\n",
      "\n"
     ]
    }
   ],
   "source": [
    "country = spark.createDataFrame(\n",
    "    [(\"USA\", \"New York\"),\n",
    "        (\"India\", \"New Delhi\"),\n",
    "        (\"China\", \"Beijing\"),\n",
    "        (\"UK\", \"London\")\n",
    "     ],\n",
    "    [\"country\", \"capital\"]\n",
    ")\n",
    "country.show(n=2, truncate=False)\n",
    "country.printSchema()"
   ]
  },
  {
   "cell_type": "code",
   "execution_count": 7,
   "metadata": {},
   "outputs": [
    {
     "name": "stdout",
     "output_type": "stream",
     "text": [
      "+-------+---------+-----+\n",
      "|country|capital  |count|\n",
      "+-------+---------+-----+\n",
      "|USA    |New York |5    |\n",
      "|India  |New Delhi|10   |\n",
      "+-------+---------+-----+\n",
      "only showing top 2 rows\n",
      "\n",
      "root\n",
      " |-- country: string (nullable = true)\n",
      " |-- capital: string (nullable = true)\n",
      " |-- count: integer (nullable = true)\n",
      "\n"
     ]
    }
   ],
   "source": [
    "# recerate  using data types too\n",
    "data = [(\"USA\", \"New York\", 5),\n",
    "        (\"India\", \"New Delhi\", 10),\n",
    "        (\"China\", \"Beijing\", 15),\n",
    "        (\"UK\", \"London\", 20),\n",
    "        (\"Nepal\", \"Kathmandu\",None ),\n",
    "        (None ,\"islamabad\" ,None ),\n",
    "        (\"Bhutan\", None,30 )\n",
    "        ]\n",
    "schema = StructType([\n",
    "    StructField(\"country\", StringType(), True),\n",
    "    StructField(\"capital\", StringType(), True),\n",
    "    StructField(\"count\", IntegerType(), True)\n",
    "])\n",
    "country_count = spark.createDataFrame(data, schema)\n",
    "country_count.show(n=2, truncate=False)\n",
    "country_count.printSchema()"
   ]
  },
  {
   "attachments": {},
   "cell_type": "markdown",
   "metadata": {},
   "source": [
    "## Renaming columns and its type (cast)"
   ]
  },
  {
   "cell_type": "code",
   "execution_count": 8,
   "metadata": {},
   "outputs": [
    {
     "name": "stdout",
     "output_type": "stream",
     "text": [
      "+-------+---------+----+\n",
      "|country|  capital|Rank|\n",
      "+-------+---------+----+\n",
      "|    USA| New York|   5|\n",
      "|  India|New Delhi|  10|\n",
      "|  China|  Beijing|  15|\n",
      "|     UK|   London|  20|\n",
      "|  Nepal|Kathmandu|null|\n",
      "|   null|islamabad|null|\n",
      "| Bhutan|     null|  30|\n",
      "+-------+---------+----+\n",
      "\n"
     ]
    }
   ],
   "source": [
    "#Rename count to Rank\n",
    "country_rank=country_count.withColumnRenamed(\"count\",\"Rank\")\n",
    "#syntax: withColumnRenamed(existingColName, newColName) \n",
    "country_rank.show()"
   ]
  },
  {
   "attachments": {},
   "cell_type": "markdown",
   "metadata": {},
   "source": [
    " withColumn(\"newColName \",df[\"existingColName\"].cast(StringType()))"
   ]
  },
  {
   "cell_type": "code",
   "execution_count": 9,
   "metadata": {},
   "outputs": [
    {
     "name": "stdout",
     "output_type": "stream",
     "text": [
      "root\n",
      " |-- country: string (nullable = true)\n",
      " |-- capital: string (nullable = true)\n",
      " |-- Rank: string (nullable = true)\n",
      "\n"
     ]
    }
   ],
   "source": [
    "# cast Rank to string\n",
    "country_rank=country_rank.withColumn(\"Rank\",country_rank[\"Rank\"].cast(StringType()))\n",
    "#syntax: withColumn(\"newColName \",df[\"existingColName\"].cast(StringType()))\n",
    "country_rank.printSchema()\n"
   ]
  },
  {
   "attachments": {},
   "cell_type": "markdown",
   "metadata": {},
   "source": [
    "## Selecting columns"
   ]
  },
  {
   "cell_type": "code",
   "execution_count": 10,
   "metadata": {},
   "outputs": [
    {
     "name": "stdout",
     "output_type": "stream",
     "text": [
      "+-------+----+\n",
      "|country|Rank|\n",
      "+-------+----+\n",
      "|    USA|   5|\n",
      "|  India|  10|\n",
      "|  China|  15|\n",
      "|     UK|  20|\n",
      "|  Nepal|null|\n",
      "|   null|null|\n",
      "| Bhutan|  30|\n",
      "+-------+----+\n",
      "\n"
     ]
    }
   ],
   "source": [
    "# country_rank=country_rank.select(\"country\",\"Rank\")\n",
    "country_rank.select(f.col(\"country\"),f.col(\"Rank\")).show()"
   ]
  },
  {
   "cell_type": "code",
   "execution_count": 11,
   "metadata": {},
   "outputs": [
    {
     "name": "stdout",
     "output_type": "stream",
     "text": [
      "root\n",
      " |-- country: string (nullable = true)\n",
      " |-- Rank: string (nullable = true)\n",
      "\n"
     ]
    }
   ],
   "source": [
    "# only cast selected solumns and  create seperate df\n",
    "country_rank=country_count.selectExpr(\"country\",\"cast(count as string) as Rank\")\n",
    "country_rank.printSchema()"
   ]
  },
  {
   "cell_type": "code",
   "execution_count": 12,
   "metadata": {},
   "outputs": [
    {
     "data": {
      "text/plain": [
       "['country', 'capital', 'count']"
      ]
     },
     "execution_count": 12,
     "metadata": {},
     "output_type": "execute_result"
    }
   ],
   "source": [
    "# list columns\n",
    "# country_rank.columns\n",
    "country_count.columns"
   ]
  },
  {
   "cell_type": "code",
   "execution_count": 13,
   "metadata": {},
   "outputs": [
    {
     "name": "stdout",
     "output_type": "stream",
     "text": [
      "+-------+---------+\n",
      "|country|  capital|\n",
      "+-------+---------+\n",
      "|    USA| New York|\n",
      "|  India|New Delhi|\n",
      "|  China|  Beijing|\n",
      "|     UK|   London|\n",
      "|  Nepal|Kathmandu|\n",
      "|   null|islamabad|\n",
      "| Bhutan|     null|\n",
      "+-------+---------+\n",
      "\n",
      "+-------+---------+\n",
      "|country|  capital|\n",
      "+-------+---------+\n",
      "|    USA| New York|\n",
      "|  India|New Delhi|\n",
      "|  China|  Beijing|\n",
      "|     UK|   London|\n",
      "|  Nepal|Kathmandu|\n",
      "|   null|islamabad|\n",
      "| Bhutan|     null|\n",
      "+-------+---------+\n",
      "\n"
     ]
    }
   ],
   "source": [
    " country_count.select(\"country\", \"capital\").show()   \n",
    "country_count.drop(\"count\").show()\n"
   ]
  },
  {
   "attachments": {},
   "cell_type": "markdown",
   "metadata": {},
   "source": [
    "## Filtering"
   ]
  },
  {
   "cell_type": "code",
   "execution_count": 14,
   "metadata": {},
   "outputs": [
    {
     "name": "stdout",
     "output_type": "stream",
     "text": [
      "+-------+-------+-----+\n",
      "|country|capital|count|\n",
      "+-------+-------+-----+\n",
      "|  China|Beijing|   15|\n",
      "|     UK| London|   20|\n",
      "| Bhutan|   null|   30|\n",
      "+-------+-------+-----+\n",
      "\n",
      "+-------+-------+-----+\n",
      "|country|capital|count|\n",
      "+-------+-------+-----+\n",
      "|  China|Beijing|   15|\n",
      "|     UK| London|   20|\n",
      "| Bhutan|   null|   30|\n",
      "+-------+-------+-----+\n",
      "\n"
     ]
    }
   ],
   "source": [
    "country_count.filter(country_count[\"count\"] > 10).show()\n",
    "country_count.where(country_count[\"count\"] > 10).show()"
   ]
  },
  {
   "attachments": {},
   "cell_type": "markdown",
   "metadata": {},
   "source": [
    "## Dropping columns"
   ]
  },
  {
   "cell_type": "code",
   "execution_count": 15,
   "metadata": {},
   "outputs": [
    {
     "name": "stdout",
     "output_type": "stream",
     "text": [
      "+-------+-----+\n",
      "|country|count|\n",
      "+-------+-----+\n",
      "|    USA|    5|\n",
      "|  India|   10|\n",
      "|  China|   15|\n",
      "|     UK|   20|\n",
      "|  Nepal| null|\n",
      "|   null| null|\n",
      "| Bhutan|   30|\n",
      "+-------+-----+\n",
      "\n",
      "+-------+\n",
      "|country|\n",
      "+-------+\n",
      "|    USA|\n",
      "|  India|\n",
      "|  China|\n",
      "|     UK|\n",
      "|  Nepal|\n",
      "|   null|\n",
      "| Bhutan|\n",
      "+-------+\n",
      "\n"
     ]
    }
   ],
   "source": [
    "country_count.drop(\"capital\").show()\n",
    "\n",
    "cols_to_drop = (\"capital\", \"count\")\n",
    "country_count.drop(*cols_to_drop).show()"
   ]
  },
  {
   "cell_type": "code",
   "execution_count": 16,
   "metadata": {},
   "outputs": [
    {
     "name": "stdout",
     "output_type": "stream",
     "text": [
      "+-------+---------+-----+\n",
      "|country|  capital|count|\n",
      "+-------+---------+-----+\n",
      "|    USA| New York|    5|\n",
      "|  India|New Delhi|   10|\n",
      "|  China|  Beijing|   15|\n",
      "|     UK|   London|   20|\n",
      "+-------+---------+-----+\n",
      "\n",
      "+-------+---------+-----+\n",
      "|country|  capital|count|\n",
      "+-------+---------+-----+\n",
      "|    USA| New York|    5|\n",
      "|  India|New Delhi|   10|\n",
      "|  China|  Beijing|   15|\n",
      "|     UK|   London|   20|\n",
      "+-------+---------+-----+\n",
      "\n",
      "+-------+---------+-----+\n",
      "|country|  capital|count|\n",
      "+-------+---------+-----+\n",
      "|    USA| New York|    5|\n",
      "|  India|New Delhi|   10|\n",
      "|  China|  Beijing|   15|\n",
      "|     UK|   London|   20|\n",
      "|  Nepal|Kathmandu| null|\n",
      "|   null|islamabad| null|\n",
      "| Bhutan|     null|   30|\n",
      "+-------+---------+-----+\n",
      "\n",
      "+-------+---------+-----+\n",
      "|country|  capital|count|\n",
      "+-------+---------+-----+\n",
      "|    USA| New York|    5|\n",
      "|  India|New Delhi|   10|\n",
      "|  China|  Beijing|   15|\n",
      "|     UK|   London|   20|\n",
      "|  Nepal|Kathmandu| null|\n",
      "|   null|islamabad| null|\n",
      "+-------+---------+-----+\n",
      "\n"
     ]
    }
   ],
   "source": [
    "# drop null values\n",
    "country_count.dropna().show()  # silimiar to \"any\"\n",
    "#any  \n",
    "country_count.dropna(how=\"any\").show()  # default\n",
    "\n",
    "#all\n",
    "country_count.dropna(how=\"all\").show() # drop if all values are null in a row\n",
    "\n",
    "#  drop null values in specific columns \n",
    "country_count.dropna(subset=[\"capital\"]).show()\n",
    "\n"
   ]
  },
  {
   "attachments": {},
   "cell_type": "markdown",
   "metadata": {},
   "source": [
    "##  Union\n",
    "add new  rows to the dataframe"
   ]
  },
  {
   "cell_type": "code",
   "execution_count": 17,
   "metadata": {},
   "outputs": [
    {
     "name": "stdout",
     "output_type": "stream",
     "text": [
      "+----+------+\n",
      "|TEXT|NUMBER|\n",
      "+----+------+\n",
      "|   A|     1|\n",
      "|   B|     2|\n",
      "|   C|     3|\n",
      "|   D|     4|\n",
      "|   C|     3|\n",
      "|   D|     4|\n",
      "|   E|     5|\n",
      "|   F|     6|\n",
      "+----+------+\n",
      "\n",
      "+----+------+\n",
      "|TEXT|NUMBER|\n",
      "+----+------+\n",
      "|   A|     1|\n",
      "|   B|     2|\n",
      "|   C|     3|\n",
      "|   D|     4|\n",
      "|   C|     3|\n",
      "|   D|     4|\n",
      "|   E|     5|\n",
      "|   F|     6|\n",
      "+----+------+\n",
      "\n",
      "+----+------+\n",
      "|TEXT|NUMBER|\n",
      "+----+------+\n",
      "|   A|     1|\n",
      "|   B|     2|\n",
      "|   C|     3|\n",
      "|   D|     4|\n",
      "|   E|     5|\n",
      "|   F|     6|\n",
      "+----+------+\n",
      "\n"
     ]
    }
   ],
   "source": [
    "df1=spark.createDataFrame([(\"A\",1),(\"B\",2),(\"C\",3),(\"D\",4)],[\"TEXT\",\"NUMBER\"])\n",
    "\n",
    "df2=spark.createDataFrame([(\"C\",3),(\"D\",4),(\"E\",5),(\"F\",6)],[\"TEXT\",\"NUMBER\"])\n",
    "df1.union(df2).show() # also show duplicates\n",
    "df1.unionAll(df2).show() # also show duplicates\n",
    "\n",
    "df1.union(df2).distinct().show() # remove duplicates"
   ]
  },
  {
   "attachments": {},
   "cell_type": "markdown",
   "metadata": {},
   "source": [
    "## Sorting"
   ]
  },
  {
   "cell_type": "code",
   "execution_count": 30,
   "metadata": {},
   "outputs": [
    {
     "name": "stdout",
     "output_type": "stream",
     "text": [
      "+------------+-------+-----+\n",
      "|student_name|subject|marks|\n",
      "+------------+-------+-----+\n",
      "|       Alice|Science|   80|\n",
      "|       Alice|   Math|   90|\n",
      "|       Alice|English|   85|\n",
      "|        Mark|   Math|   85|\n",
      "|        Mark|English|   80|\n",
      "|       Penny|Science|   85|\n",
      "|       Penny|   Math|   90|\n",
      "|       Penny|English|   75|\n",
      "|        Gwen|Science|   75|\n",
      "|        Gwen|   Math|   95|\n",
      "|        Gwen|English|   80|\n",
      "+------------+-------+-----+\n",
      "\n"
     ]
    }
   ],
   "source": [
    "data = [(\"Alice\", \"Science\", 80),(\"Alice\", \"Math\", 90), (\"Alice\", \"English\", 85), (\"Mark\", \"Math\", 85),(\"Mark\", \"English\", 80),(\"Penny\", \"Science\", 85),(\"Penny\", \"Math\", 90),(\"Penny\", \"English\", 75),(\"Gwen\", \"Science\", 75),(\"Gwen\", \"Math\", 95),(\"Gwen\", \"English\", 80)]\n",
    "schema = [\"student_name\", \"subject\", \"marks\"]\n",
    "marks_df = spark.createDataFrame(data, schema)\n",
    "marks_df.show()"
   ]
  },
  {
   "cell_type": "code",
   "execution_count": 31,
   "metadata": {},
   "outputs": [
    {
     "name": "stdout",
     "output_type": "stream",
     "text": [
      "+------------+-------+-----+\n",
      "|student_name|subject|marks|\n",
      "+------------+-------+-----+\n",
      "|       Alice|   Math|   90|\n",
      "|       Alice|Science|   80|\n",
      "|       Alice|English|   85|\n",
      "|        Gwen|Science|   75|\n",
      "+------------+-------+-----+\n",
      "only showing top 4 rows\n",
      "\n",
      "+------------+-------+-----+\n",
      "|student_name|subject|marks|\n",
      "+------------+-------+-----+\n",
      "|       Penny|Science|   85|\n",
      "|       Penny|English|   75|\n",
      "|       Penny|   Math|   90|\n",
      "|        Mark|   Math|   85|\n",
      "+------------+-------+-----+\n",
      "only showing top 4 rows\n",
      "\n",
      "+------------+-------+-----+\n",
      "|student_name|subject|marks|\n",
      "+------------+-------+-----+\n",
      "|       Penny|Science|   85|\n",
      "|       Penny|English|   75|\n",
      "|       Penny|   Math|   90|\n",
      "|        Mark|   Math|   85|\n",
      "+------------+-------+-----+\n",
      "only showing top 4 rows\n",
      "\n",
      "+------------+-------+-----+\n",
      "|student_name|subject|marks|\n",
      "+------------+-------+-----+\n",
      "|       Alice|Science|   80|\n",
      "|       Alice|English|   85|\n",
      "|       Alice|   Math|   90|\n",
      "|        Gwen|Science|   75|\n",
      "+------------+-------+-----+\n",
      "only showing top 4 rows\n",
      "\n"
     ]
    }
   ],
   "source": [
    "marks_df.sort(\"student_name\").show(4)\n",
    "marks_df.sort(\"student_name\", ascending=False).show(4)   # ascending=False means descending order\n",
    "marks_df.sort(f.col(\"student_name\").desc()).show(4)  # .desc() is same as ascending=False\n",
    "marks_df.sort(\"student_name\",\"marks\").show(4)"
   ]
  },
  {
   "attachments": {},
   "cell_type": "markdown",
   "metadata": {},
   "source": [
    "## Convert df to TempView\n",
    "to run sql queries on df"
   ]
  },
  {
   "cell_type": "code",
   "execution_count": 32,
   "metadata": {},
   "outputs": [
    {
     "ename": "AnalysisException",
     "evalue": "[TEMP_TABLE_OR_VIEW_ALREADY_EXISTS] Cannot create the temporary view `marks_table` because it already exists.\nChoose a different name, drop or replace the existing view,  or add the IF NOT EXISTS clause to tolerate pre-existing views.",
     "output_type": "error",
     "traceback": [
      "\u001b[0;31m---------------------------------------------------------------------------\u001b[0m",
      "\u001b[0;31mAnalysisException\u001b[0m                         Traceback (most recent call last)",
      "Cell \u001b[0;32mIn[32], line 1\u001b[0m\n\u001b[0;32m----> 1\u001b[0m marks_df\u001b[39m.\u001b[39;49mcreateTempView(\u001b[39m\"\u001b[39;49m\u001b[39mmarks_table\u001b[39;49m\u001b[39m\"\u001b[39;49m) \n",
      "File \u001b[0;32m~/spark-3.4.0-bin-hadoop3/python/pyspark/sql/dataframe.py:371\u001b[0m, in \u001b[0;36mDataFrame.createTempView\u001b[0;34m(self, name)\u001b[0m\n\u001b[1;32m    333\u001b[0m \u001b[39mdef\u001b[39;00m \u001b[39mcreateTempView\u001b[39m(\u001b[39mself\u001b[39m, name: \u001b[39mstr\u001b[39m) \u001b[39m-\u001b[39m\u001b[39m>\u001b[39m \u001b[39mNone\u001b[39;00m:\n\u001b[1;32m    334\u001b[0m \u001b[39m    \u001b[39m\u001b[39m\"\"\"Creates a local temporary view with this :class:`DataFrame`.\u001b[39;00m\n\u001b[1;32m    335\u001b[0m \n\u001b[1;32m    336\u001b[0m \u001b[39m    The lifetime of this temporary table is tied to the :class:`SparkSession`\u001b[39;00m\n\u001b[0;32m   (...)\u001b[0m\n\u001b[1;32m    369\u001b[0m \n\u001b[1;32m    370\u001b[0m \u001b[39m    \"\"\"\u001b[39;00m\n\u001b[0;32m--> 371\u001b[0m     \u001b[39mself\u001b[39;49m\u001b[39m.\u001b[39;49m_jdf\u001b[39m.\u001b[39;49mcreateTempView(name)\n",
      "File \u001b[0;32m~/spark-3.4.0-bin-hadoop3/python/lib/py4j-0.10.9.7-src.zip/py4j/java_gateway.py:1322\u001b[0m, in \u001b[0;36mJavaMember.__call__\u001b[0;34m(self, *args)\u001b[0m\n\u001b[1;32m   1316\u001b[0m command \u001b[39m=\u001b[39m proto\u001b[39m.\u001b[39mCALL_COMMAND_NAME \u001b[39m+\u001b[39m\\\n\u001b[1;32m   1317\u001b[0m     \u001b[39mself\u001b[39m\u001b[39m.\u001b[39mcommand_header \u001b[39m+\u001b[39m\\\n\u001b[1;32m   1318\u001b[0m     args_command \u001b[39m+\u001b[39m\\\n\u001b[1;32m   1319\u001b[0m     proto\u001b[39m.\u001b[39mEND_COMMAND_PART\n\u001b[1;32m   1321\u001b[0m answer \u001b[39m=\u001b[39m \u001b[39mself\u001b[39m\u001b[39m.\u001b[39mgateway_client\u001b[39m.\u001b[39msend_command(command)\n\u001b[0;32m-> 1322\u001b[0m return_value \u001b[39m=\u001b[39m get_return_value(\n\u001b[1;32m   1323\u001b[0m     answer, \u001b[39mself\u001b[39;49m\u001b[39m.\u001b[39;49mgateway_client, \u001b[39mself\u001b[39;49m\u001b[39m.\u001b[39;49mtarget_id, \u001b[39mself\u001b[39;49m\u001b[39m.\u001b[39;49mname)\n\u001b[1;32m   1325\u001b[0m \u001b[39mfor\u001b[39;00m temp_arg \u001b[39min\u001b[39;00m temp_args:\n\u001b[1;32m   1326\u001b[0m     \u001b[39mif\u001b[39;00m \u001b[39mhasattr\u001b[39m(temp_arg, \u001b[39m\"\u001b[39m\u001b[39m_detach\u001b[39m\u001b[39m\"\u001b[39m):\n",
      "File \u001b[0;32m~/spark-3.4.0-bin-hadoop3/python/pyspark/errors/exceptions/captured.py:175\u001b[0m, in \u001b[0;36mcapture_sql_exception.<locals>.deco\u001b[0;34m(*a, **kw)\u001b[0m\n\u001b[1;32m    171\u001b[0m converted \u001b[39m=\u001b[39m convert_exception(e\u001b[39m.\u001b[39mjava_exception)\n\u001b[1;32m    172\u001b[0m \u001b[39mif\u001b[39;00m \u001b[39mnot\u001b[39;00m \u001b[39misinstance\u001b[39m(converted, UnknownException):\n\u001b[1;32m    173\u001b[0m     \u001b[39m# Hide where the exception came from that shows a non-Pythonic\u001b[39;00m\n\u001b[1;32m    174\u001b[0m     \u001b[39m# JVM exception message.\u001b[39;00m\n\u001b[0;32m--> 175\u001b[0m     \u001b[39mraise\u001b[39;00m converted \u001b[39mfrom\u001b[39;00m \u001b[39mNone\u001b[39;00m\n\u001b[1;32m    176\u001b[0m \u001b[39melse\u001b[39;00m:\n\u001b[1;32m    177\u001b[0m     \u001b[39mraise\u001b[39;00m\n",
      "\u001b[0;31mAnalysisException\u001b[0m: [TEMP_TABLE_OR_VIEW_ALREADY_EXISTS] Cannot create the temporary view `marks_table` because it already exists.\nChoose a different name, drop or replace the existing view,  or add the IF NOT EXISTS clause to tolerate pre-existing views."
     ]
    }
   ],
   "source": [
    "marks_df.createTempView(\"marks_table\") "
   ]
  },
  {
   "cell_type": "code",
   "execution_count": 36,
   "metadata": {},
   "outputs": [
    {
     "name": "stdout",
     "output_type": "stream",
     "text": [
      "+------------+-------+-----+\n",
      "|student_name|subject|marks|\n",
      "+------------+-------+-----+\n",
      "|        Gwen|   Math|   95|\n",
      "|        Mark|Science|   90|\n",
      "|       Penny|   Math|   90|\n",
      "|       Alice|   Math|   90|\n",
      "+------------+-------+-----+\n",
      "only showing top 4 rows\n",
      "\n"
     ]
    }
   ],
   "source": [
    "spark.sql(\"select * from marks_table order by marks DESC\").show(4)"
   ]
  },
  {
   "attachments": {},
   "cell_type": "markdown",
   "metadata": {},
   "source": [
    "## Basic Aggregration"
   ]
  },
  {
   "cell_type": "code",
   "execution_count": 37,
   "metadata": {},
   "outputs": [
    {
     "name": "stdout",
     "output_type": "stream",
     "text": [
      "+------------+----------+\n",
      "|student_name|min(marks)|\n",
      "+------------+----------+\n",
      "|       Alice|        80|\n",
      "|        Mark|        80|\n",
      "|       Penny|        75|\n",
      "|        Gwen|        75|\n",
      "+------------+----------+\n",
      "\n",
      "+------------+----------+\n",
      "|student_name|sum(marks)|\n",
      "+------------+----------+\n",
      "|       Alice|       255|\n",
      "|        Mark|       165|\n",
      "|       Penny|       250|\n",
      "|        Gwen|       250|\n",
      "+------------+----------+\n",
      "\n",
      "+------------+-----------------+\n",
      "|student_name|       avg(marks)|\n",
      "+------------+-----------------+\n",
      "|       Alice|             85.0|\n",
      "|        Mark|             82.5|\n",
      "|       Penny|83.33333333333333|\n",
      "|        Gwen|83.33333333333333|\n",
      "+------------+-----------------+\n",
      "\n"
     ]
    }
   ],
   "source": [
    "marks_df.groupBy(\"student_name\").agg(f.min(\"marks\")).show() # min marks of each student\n",
    "marks_df.groupBy(\"student_name\").agg(f.sum(\"marks\")).show() # sum of marks of each student\n",
    "marks_df.groupBy(\"student_name\").agg(f.avg(\"marks\")).show() # avg of marks of each student\n",
    "\n",
    "# similary other aggregration functions can be used like count , max , min , sum , avg , mean , stddev , variance "
   ]
  },
  {
   "attachments": {},
   "cell_type": "markdown",
   "metadata": {},
   "source": [
    "## Joins\n",
    "\n",
    "use keys to joins df"
   ]
  },
  {
   "cell_type": "code",
   "execution_count": 38,
   "metadata": {},
   "outputs": [
    {
     "name": "stdout",
     "output_type": "stream",
     "text": [
      "+------------+-------+-----+\n",
      "|student_name|subject|marks|\n",
      "+------------+-------+-----+\n",
      "|       Alice|Science|   80|\n",
      "|       Penny|Science|   85|\n",
      "|        Gwen|Science|   75|\n",
      "+------------+-------+-----+\n",
      "\n",
      "+------------+-------+-----+\n",
      "|student_name|subject|marks|\n",
      "+------------+-------+-----+\n",
      "|       Alice|   Math|   90|\n",
      "|        Mark|   Math|   85|\n",
      "|       Penny|   Math|   90|\n",
      "|        Gwen|   Math|   95|\n",
      "+------------+-------+-----+\n",
      "\n"
     ]
    }
   ],
   "source": [
    "science_df=marks_df.filter(marks_df[\"subject\"]==\"Science\")\n",
    "math_df=marks_df.filter(marks_df[\"subject\"]==\"Math\")\n",
    "\n",
    "science_df.show()\n",
    "math_df.show()"
   ]
  },
  {
   "cell_type": "code",
   "execution_count": 45,
   "metadata": {},
   "outputs": [
    {
     "name": "stdout",
     "output_type": "stream",
     "text": [
      "+------------+-------+-----+------------+-------+-----+\n",
      "|student_name|subject|marks|student_name|subject|marks|\n",
      "+------------+-------+-----+------------+-------+-----+\n",
      "|       Alice|Science|   80|       Alice|   Math|   90|\n",
      "|        Gwen|Science|   75|        Gwen|   Math|   95|\n",
      "|       Penny|Science|   85|       Penny|   Math|   90|\n",
      "+------------+-------+-----+------------+-------+-----+\n",
      "\n",
      "+------------+-------+-----+-------+-----+\n",
      "|student_name|subject|marks|subject|marks|\n",
      "+------------+-------+-----+-------+-----+\n",
      "|       Alice|Science|   80|   Math|   90|\n",
      "|       Penny|Science|   85|   Math|   90|\n",
      "|        Gwen|Science|   75|   Math|   95|\n",
      "+------------+-------+-----+-------+-----+\n",
      "\n",
      "+------------+-------+-----+------------+-------+-----+\n",
      "|student_name|subject|marks|student_name|subject|marks|\n",
      "+------------+-------+-----+------------+-------+-----+\n",
      "|       Alice|Science|   80|       Alice|   Math|   90|\n",
      "|        null|   null| null|        Mark|   Math|   85|\n",
      "|       Penny|Science|   85|       Penny|   Math|   90|\n",
      "|        Gwen|Science|   75|        Gwen|   Math|   95|\n",
      "+------------+-------+-----+------------+-------+-----+\n",
      "\n",
      "+------------+-------+-----+------------+-------+-----+\n",
      "|student_name|subject|marks|student_name|subject|marks|\n",
      "+------------+-------+-----+------------+-------+-----+\n",
      "|       Alice|Science|   80|       Alice|   Math|   90|\n",
      "|        Gwen|Science|   75|        Gwen|   Math|   95|\n",
      "|        null|   null| null|        Mark|   Math|   85|\n",
      "|       Penny|Science|   85|       Penny|   Math|   90|\n",
      "+------------+-------+-----+------------+-------+-----+\n",
      "\n",
      "+------------+-------+-----+\n",
      "|student_name|subject|marks|\n",
      "+------------+-------+-----+\n",
      "|       Alice|Science|   80|\n",
      "|        Gwen|Science|   75|\n",
      "|       Penny|Science|   85|\n",
      "+------------+-------+-----+\n",
      "\n",
      "+------------+-------+-----+\n",
      "|student_name|subject|marks|\n",
      "+------------+-------+-----+\n",
      "+------------+-------+-----+\n",
      "\n"
     ]
    }
   ],
   "source": [
    "#syntax: df1.join(df2,df1[\"col1\"]==df2[\"col2\"],<join_type>)\n",
    "science_df.join(math_df,science_df[\"student_name\"]==math_df[\"student_name\"],\"inner\").show() # inner join\n",
    "science_df.join(math_df,[\"student_name\"],\"left\").show() # left join   # can use single key column name if both df has same column name , so no duplicate column name\n",
    "science_df.join(math_df,science_df[\"student_name\"]==math_df[\"student_name\"],\"right\").show() # right join\n",
    "science_df.join(math_df,science_df[\"student_name\"]==math_df[\"student_name\"],\"full\").show() # full join or outer join so list all rows from both df\n",
    "\n",
    "#left_semi join\n",
    "science_df.join(math_df,science_df[\"student_name\"]==math_df[\"student_name\"],\"left_semi\").show() # left_semi join\n",
    "\n",
    "#left_anti join\n",
    "science_df.join(math_df,science_df[\"student_name\"]==math_df[\"student_name\"],\"left_anti\").show() # left_anti join # list all rows from left df which are not in right df"
   ]
  },
  {
   "attachments": {},
   "cell_type": "markdown",
   "metadata": {},
   "source": [
    "## Partition (Colesce and repartition)"
   ]
  },
  {
   "cell_type": "code",
   "execution_count": 49,
   "metadata": {},
   "outputs": [
    {
     "name": "stdout",
     "output_type": "stream",
     "text": [
      "+--------+-----------+-----------+--------------+-----+\n",
      "|coord_id|        lon|        lat|          date|value|\n",
      "+--------+-----------+-----------+--------------+-----+\n",
      "|      26|85.92405469|27.19137527|6/10/2011 0:00|  0.0|\n",
      "|      26|85.92405469|27.19137527|6/10/2011 0:30|  0.0|\n",
      "+--------+-----------+-----------+--------------+-----+\n",
      "only showing top 2 rows\n",
      "\n"
     ]
    },
    {
     "data": {
      "text/plain": [
       "636240"
      ]
     },
     "execution_count": 49,
     "metadata": {},
     "output_type": "execute_result"
    }
   ],
   "source": [
    "# Read Final_Rainfall.csv file\n",
    "df_RailFall = spark.read.csv('Final_Rainfall.csv', header=True, inferSchema=True)\n",
    "df_RailFall.show(2)\n",
    "df.count()"
   ]
  },
  {
   "cell_type": "code",
   "execution_count": 50,
   "metadata": {},
   "outputs": [
    {
     "data": {
      "text/plain": [
       "6"
      ]
     },
     "execution_count": 50,
     "metadata": {},
     "output_type": "execute_result"
    }
   ],
   "source": [
    "# get num,ber of partitions\n",
    "df_RailFall.rdd.getNumPartitions()"
   ]
  },
  {
   "cell_type": "code",
   "execution_count": 58,
   "metadata": {},
   "outputs": [
    {
     "data": {
      "text/plain": [
       "3"
      ]
     },
     "execution_count": 58,
     "metadata": {},
     "output_type": "execute_result"
    }
   ],
   "source": [
    "# Colesce dont shuffle data so falls under narrow transformation  \n",
    "# and  generally used to reduce number of partitions\n",
    "df_RailFall.coalesce(3).rdd.getNumPartitions()\n"
   ]
  },
  {
   "cell_type": "code",
   "execution_count": 57,
   "metadata": {},
   "outputs": [
    {
     "name": "stderr",
     "output_type": "stream",
     "text": [
      "[Stage 375:======================================>                  (4 + 2) / 6]\r"
     ]
    },
    {
     "data": {
      "text/plain": [
       "30"
      ]
     },
     "execution_count": 57,
     "metadata": {},
     "output_type": "execute_result"
    }
   ],
   "source": [
    "#repartition shuffle data so falls under wide transformation\n",
    "# and generally used to increase number of partitions but can also be used to reduce number of partitions\n",
    "df_RailFall.repartition(30).rdd.getNumPartitions()"
   ]
  },
  {
   "attachments": {},
   "cell_type": "markdown",
   "metadata": {},
   "source": [
    "## Shared variables (Broadcast and Accumulators)"
   ]
  },
  {
   "cell_type": "code",
   "execution_count": null,
   "metadata": {},
   "outputs": [],
   "source": []
  },
  {
   "cell_type": "code",
   "execution_count": null,
   "metadata": {},
   "outputs": [],
   "source": []
  },
  {
   "cell_type": "code",
   "execution_count": null,
   "metadata": {},
   "outputs": [],
   "source": []
  }
 ],
 "metadata": {
  "kernelspec": {
   "display_name": "spark_env",
   "language": "python",
   "name": "python3"
  },
  "language_info": {
   "codemirror_mode": {
    "name": "ipython",
    "version": 3
   },
   "file_extension": ".py",
   "mimetype": "text/x-python",
   "name": "python",
   "nbconvert_exporter": "python",
   "pygments_lexer": "ipython3",
   "version": "3.11.2"
  },
  "orig_nbformat": 4
 },
 "nbformat": 4,
 "nbformat_minor": 2
}
